{
 "cells": [
  {
   "cell_type": "code",
   "execution_count": null,
   "metadata": {},
   "outputs": [],
   "source": [
    "! pip install sqlalchemy pyodbc"
   ]
  },
  {
   "cell_type": "code",
   "execution_count": 242,
   "metadata": {},
   "outputs": [],
   "source": [
    "import sqlalchemy\n",
    "import pandas as pd\n",
    "import numpy as np\n",
    "from sklearn.preprocessing import StandardScaler\n",
    "from sklearn.ensemble import IsolationForest,RandomForestClassifier\n",
    "import matplotlib.pyplot as plt\n",
    "import seaborn as sns\n",
    "from scipy.stats import zscore\n",
    "from sklearn.model_selection import train_test_split\n",
    "from sklearn.metrics import classification_report, accuracy_score"
   ]
  },
  {
   "cell_type": "code",
   "execution_count": 220,
   "metadata": {},
   "outputs": [],
   "source": [
    "server = r\"SAKS\\SQLEXPRESS\"\n",
    "database = \"HEALTHCARE_\"\n",
    "username = \"Saks\"\n",
    "password = \"Sql@2025\""
   ]
  },
  {
   "cell_type": "code",
   "execution_count": 221,
   "metadata": {},
   "outputs": [],
   "source": [
    "# Creating SQLAlchemy engine using PyODBC\n",
    "engine = sqlalchemy.create_engine(f\"mssql+pyodbc://{server}/{database}?driver=SQL+Server&trusted_connection=yes\") "
   ]
  },
  {
   "cell_type": "code",
   "execution_count": null,
   "metadata": {},
   "outputs": [],
   "source": [
    "# Fetching all table names\n",
    "query = \"SELECT TABLE_NAME FROM INFORMATION_SCHEMA.TABLES WHERE TABLE_TYPE = 'BASE TABLE'\"\n",
    "df_tables = pd.read_sql(query, engine)\n",
    "\n",
    "print(df_tables)\n",
    "\n",
    "# Fetching data from a specific table\n",
    "table_name = \"Medicare_Charge_Inpatient\"  \n",
    "Medicare_Charge_Inpatient = pd.read_sql(f\"SELECT * FROM {table_name}\", engine)\n",
    "\n",
    "table_name = \"Medicare_Charge_Outpatient\"  \n",
    "Medicare_Charge_Outpatient = pd.read_sql(f\"SELECT * FROM {table_name}\", engine)\n",
    "\n",
    "table_name = \"Medicare_Provider_Charge_Inpatient\"  \n",
    "Medicare_Provider_Charge_Inpatient = pd.read_sql(f\"SELECT * FROM {table_name}\", engine)\n",
    "\n",
    "table_name = \"Medicare_Provider_Charge_Outpatient\"  \n",
    "Medicare_Provider_Charge_Outpatient = pd.read_sql(f\"SELECT * FROM {table_name}\", engine)\n",
    "\n",
    "table_name = \"Patient_history_samp\"  \n",
    "Patient_history_samp = pd.read_sql(f\"SELECT * FROM {table_name}\", engine)\n",
    "\n",
    "table_name = \"Review_patient_history_samp\"  \n",
    "Review_patient_history_samp = pd.read_sql(f\"SELECT * FROM {table_name}\", engine)\n",
    "\n",
    "table_name = \"Review_transaction_coo\"  \n",
    "Medicare_Charge_Inpatient = pd.read_sql(f\"SELECT * FROM {table_name}\", engine)\n",
    "\n",
    "table_name = \"Transaction_coo\"  \n",
    "Transaction_coo = pd.read_sql(f\"SELECT * FROM {table_name}\", engine)"
   ]
  },
  {
   "cell_type": "code",
   "execution_count": null,
   "metadata": {},
   "outputs": [],
   "source": [
    "Medicare_Provider_Charge_Inpatient.head(1)"
   ]
  },
  {
   "cell_type": "code",
   "execution_count": 224,
   "metadata": {},
   "outputs": [],
   "source": [
    "Medicare_Provider_Charge_Inpatient.rename(columns={\"Average_Total_Payments\":\"Average_Total_Payments_In\",\"Provider_Name\" : \"Provider_Name_In\",\"Provider_Street_Address\":\"Provider_Street_Address_In\",\"Provider_City\":\"Provider_City_In\",\"Provider_State\":\"Provider_State_In\",\"Provider_Zip_Code\":\"Provider_Zip_Code_In\",\"Hospital_Referral_Region_HRR_Description\":\"Hospital_Referral_Region_HRR_Description_In\"},inplace=True)\n",
    "\n",
    "Medicare_Provider_Charge_Outpatient.rename(columns={\"Average_Total_Payments\":\"Average_Total_Payments_Out\",\"Provider_Name\" : \"Provider_Name_Out\",\"Provider_Street_Address\":\"Provider_Street_Address_Out\",\"Provider_City\":\"Provider_City_Out\",\"Provider_State\":\"Provider_State_Out\",\"Provider_Zip_Code\":\"Provider_Zip_Code_Out\",\"Hospital_Referral_Region_HRR_Description\":\"Hospital_Referral_Region_HRR_Description_Out\"},inplace=True)"
   ]
  },
  {
   "cell_type": "code",
   "execution_count": 225,
   "metadata": {},
   "outputs": [],
   "source": [
    "# Merge datasets on Provider_Id\n",
    "merged_data = Medicare_Provider_Charge_Inpatient.merge(Medicare_Provider_Charge_Outpatient, on=\"Provider_Id\")"
   ]
  },
  {
   "cell_type": "code",
   "execution_count": null,
   "metadata": {},
   "outputs": [],
   "source": [
    "pd.set_option('display.max_columns', None)\n",
    "merged_data.head(3)"
   ]
  },
  {
   "cell_type": "markdown",
   "metadata": {},
   "source": [
    "Identify providers that overcharge for certain procedures or regions where procedures are too expensive."
   ]
  },
  {
   "cell_type": "markdown",
   "metadata": {},
   "source": [
    "Highest Cost Variation"
   ]
  },
  {
   "cell_type": "code",
   "execution_count": null,
   "metadata": {},
   "outputs": [],
   "source": [
    "cost_variation = Medicare_Provider_Charge_Inpatient.groupby(\"DRG_Definition\")[\"Average_Total_Payments_In\"].std()\n",
    "most_variable_procedure = cost_variation.idxmax()\n",
    "print(\"Most variable procedure: \", most_variable_procedure)"
   ]
  },
  {
   "cell_type": "markdown",
   "metadata": {},
   "source": [
    "Highest Cost claims by Provider"
   ]
  },
  {
   "cell_type": "code",
   "execution_count": null,
   "metadata": {},
   "outputs": [],
   "source": [
    "# Compute Z-score within each procedure\n",
    "Medicare_Provider_Charge_Inpatient[\"Payment_ZScore\"] = Medicare_Provider_Charge_Inpatient.groupby(\"DRG_Definition\")[\"Average_Total_Payments_In\"].transform(zscore)\n",
    "\n",
    "# Identify overcharging providers (Z-Score > 3)\n",
    "overcharging_providers = Medicare_Provider_Charge_Inpatient[Medicare_Provider_Charge_Inpatient[\"Payment_ZScore\"] > 3][[\"Provider_Id\", \"DRG_Definition\", \"Average_Total_Payments_In\", \"Payment_ZScore\"]]\n",
    "\n",
    "top_providers = overcharging_providers.sort_values(by=\"Payment_ZScore\", ascending=False).head(10)\n",
    "\n",
    "# Bar Chart: Top Overcharging Providers\n",
    "\n",
    "Medicare_Provider_Charge_Inpatient[\"DRG_Definition\"] = pd.Categorical(Medicare_Provider_Charge_Inpatient[\"DRG_Definition\"], ordered=True)\n",
    "\n",
    "top__charging_providers = top_providers.sort_values(by=\"Average_Total_Payments_In\",ascending=False)\n",
    "\n",
    "top__charging_providers\n",
    "\n",
    "# these are the top 10 procedure with highest cost variaiton for inpatient"
   ]
  },
  {
   "cell_type": "code",
   "execution_count": 197,
   "metadata": {},
   "outputs": [],
   "source": [
    "# Note -- z-score will find which provider overcharge for specific procedure compared to others\n",
    "# std -  will find the cost variation amoung different provider for each procedure and find which procedure ave highest cost variation amoung providers (overalanga a procedure la highest cost variation ithavo athuna std kamchathu)example -\n",
    "# DRG_Definition\tProvider\tAverage_Total_Payments_In\n",
    "# Heart Surgery\tA\t$10,000\n",
    "# Heart Surgery\tB\t$12,000\n",
    "# Heart Surgery\tC\t$25,000\n",
    "# Knee Surgery\tD\t$7,000\n",
    "# Knee Surgery\tE\t$7,200\n",
    "# Knee Surgery\tF\t$7,500\n",
    "# Heart Surgery has a big price difference ($10,000 to $25,000).\n",
    "# Knee Surgery prices are close ($7,000 to $7,500).\n",
    "# So, std for Heart Surgery > Knee Surgery → More variation in charges."
   ]
  },
  {
   "cell_type": "markdown",
   "metadata": {},
   "source": [
    "Highest Cost Claims by Region"
   ]
  },
  {
   "cell_type": "code",
   "execution_count": null,
   "metadata": {},
   "outputs": [],
   "source": [
    "highest_cost_regions = Medicare_Provider_Charge_Inpatient.groupby(\"Provider_State_In\")[[\"Average_Covered_Charges\",\"Average_Total_Payments_In\"]].mean().sort_values(by =\"Average_Covered_Charges\" ,ascending=False).head(10)\n",
    "\n",
    "print(\"Top 10 Highest-Cost Regions:\\n\")\n",
    "highest_cost_regions\n"
   ]
  },
  {
   "cell_type": "code",
   "execution_count": null,
   "metadata": {},
   "outputs": [],
   "source": [
    "# Plot the results\n",
    "plt.figure(figsize=(12, 6))\n",
    "highest_cost_regions.plot(kind=\"bar\", figsize=(14, 6), width=0.8, colormap=\"coolwarm\", edgecolor=\"black\")\n",
    "\n",
    "plt.title(\"Top 10 Highest-Cost Regions: Covered Charges vs. Total Payments\", fontsize=14)\n",
    "plt.xlabel(\"Hospital Referral Region (HRR)\", fontsize=12)\n",
    "plt.ylabel(\"Mean Amount ($)\", fontsize=12)\n",
    "plt.xticks(rotation=45, ha=\"right\")\n",
    "plt.legend([\"Average Covered Charges\", \"Average Total Payments\"], fontsize=10)\n",
    "plt.grid(axis=\"y\", linestyle=\"--\", alpha=0.7)\n",
    "\n",
    "plt.show()"
   ]
  },
  {
   "cell_type": "code",
   "execution_count": null,
   "metadata": {},
   "outputs": [],
   "source": [
    "highest_cost_regions_hrr = (Medicare_Provider_Charge_Inpatient.groupby(\"Hospital_Referral_Region_HRR_Description_In\")[[\"Average_Covered_Charges\",\"Average_Total_Payments_In\"]].mean().sort_values(by='Average_Covered_Charges',ascending=False)).head(10)\n",
    "\n",
    "print(\"Top 10 Highest-Cost HRR Regions:\\n\")\n",
    "\n",
    "highest_cost_regions_hrr\n"
   ]
  },
  {
   "cell_type": "code",
   "execution_count": null,
   "metadata": {},
   "outputs": [],
   "source": [
    "# Plot the results\n",
    "plt.figure(figsize=(12, 6))\n",
    "highest_cost_regions_hrr.plot(kind=\"bar\", figsize=(14, 6), width=0.8, colormap=\"coolwarm\", edgecolor=\"black\")\n",
    "\n",
    "plt.title(\"Top 10 Highest-Cost HRR Regions: Covered Charges vs. Total Payments\", fontsize=14)\n",
    "plt.xlabel(\"Hospital Referral Region (HRR)\", fontsize=12)\n",
    "plt.ylabel(\"Mean Amount ($)\", fontsize=12)\n",
    "plt.xticks(rotation=45, ha=\"right\")\n",
    "plt.legend([\"Average Covered Charges\", \"Average Total Payments\"], fontsize=10)\n",
    "plt.grid(axis=\"y\", linestyle=\"--\", alpha=0.7)\n",
    "\n",
    "plt.show()\n"
   ]
  },
  {
   "cell_type": "markdown",
   "metadata": {},
   "source": [
    "Highest Number of Procedures and Largest Differences between Claims and Reimbursements\n"
   ]
  },
  {
   "cell_type": "code",
   "execution_count": null,
   "metadata": {},
   "outputs": [],
   "source": [
    "# Highest Number of Procedures\n",
    "\n",
    "procedure_count_in = Medicare_Provider_Charge_Inpatient.groupby(\"DRG_Definition\")['Total_Discharges'].sum().reset_index()\n",
    "\n",
    "procedure_count_in.sort_values(by=\"Total_Discharges\",ascending=False).head(10)"
   ]
  },
  {
   "cell_type": "code",
   "execution_count": null,
   "metadata": {},
   "outputs": [],
   "source": [
    "# Largest Difference between claims and reimbursement \n",
    "\n",
    "Medicare_Provider_Charge_Inpatient[\"Diff_btw_claim_reimburs\"] = Medicare_Provider_Charge_Inpatient['Average_Covered_Charges']-Medicare_Provider_Charge_Inpatient['Average_Medicare_Payments']\n",
    "\n",
    "claim_diff_by_provider = Medicare_Provider_Charge_Inpatient.groupby(\"Provider_Id\")[\"Diff_btw_claim_reimburs\"].mean().reset_index()\n",
    "\n",
    "claim_diff_by_provider.sort_values(by=\"Diff_btw_claim_reimburs\", ascending=False).head(10)"
   ]
  },
  {
   "cell_type": "markdown",
   "metadata": {},
   "source": [
    "Finding 3 Providers least like others"
   ]
  },
  {
   "cell_type": "code",
   "execution_count": 204,
   "metadata": {},
   "outputs": [],
   "source": [
    "# Select numerical features\n",
    "features = [\"Outpatient_Services\", \"Average_Estimated_Submitted_Charges\", \"Average_Total_Payments_Out\",\"Average_Total_Payments_In\",\"Total_Discharges\", \"Average_Covered_Charges\", \"Average_Medicare_Payments\"]"
   ]
  },
  {
   "cell_type": "code",
   "execution_count": null,
   "metadata": {},
   "outputs": [],
   "source": [
    "data = merged_data[[\"Provider_Id\"] + features]\n",
    "data.head(5)"
   ]
  },
  {
   "cell_type": "code",
   "execution_count": null,
   "metadata": {},
   "outputs": [],
   "source": [
    "# check for null values\n",
    "data.isna().sum()"
   ]
  },
  {
   "cell_type": "code",
   "execution_count": 207,
   "metadata": {},
   "outputs": [],
   "source": [
    "# Normalize data\n",
    "scaler = StandardScaler()\n",
    "data_scaled = scaler.fit_transform(data[features])"
   ]
  },
  {
   "cell_type": "code",
   "execution_count": 208,
   "metadata": {},
   "outputs": [],
   "source": [
    "# Apply Isolation Forest for anomaly detection\n",
    "iso_forest = IsolationForest(contamination=0.01, random_state=42)\n",
    "anomaly_scores = iso_forest.fit_predict(data_scaled)"
   ]
  },
  {
   "cell_type": "code",
   "execution_count": null,
   "metadata": {},
   "outputs": [],
   "source": [
    "# Identify least similar providers (anomalies)\n",
    "data = data.copy()\n",
    "data.loc[:,\"Anomaly_Score\"] = anomaly_scores\n",
    "least_similar_providers = data[data[\"Anomaly_Score\"] == -1].sort_values(by=\"Anomaly_Score\").head(3)\n",
    "print(\"Least Similar Providers:\")\n",
    "print(least_similar_providers[[\"Provider_Id\"]])"
   ]
  },
  {
   "cell_type": "markdown",
   "metadata": {},
   "source": [
    " Finding the 3 regions least like others\n"
   ]
  },
  {
   "cell_type": "code",
   "execution_count": 210,
   "metadata": {},
   "outputs": [],
   "source": [
    "# Define Features for Each Category\n",
    "inpatient_features = [\"Total_Discharges\", \"Average_Covered_Charges\", \"Average_Total_Payments_In\", \"Average_Medicare_Payments\"]\n",
    "outpatient_features = [\"Outpatient_Services\", \"Average_Estimated_Submitted_Charges\", \"Average_Total_Payments_Out\"]\n"
   ]
  },
  {
   "cell_type": "code",
   "execution_count": 211,
   "metadata": {},
   "outputs": [],
   "source": [
    "# Aggregate Data by Region\n",
    "df_inpatient_region = Medicare_Provider_Charge_Inpatient.groupby(\"Hospital_Referral_Region_HRR_Description_In\")[inpatient_features].mean().reset_index()\n",
    "df_outpatient_region = Medicare_Provider_Charge_Outpatient.groupby(\"Hospital_Referral_Region_HRR_Description_Out\")[outpatient_features].mean().reset_index()"
   ]
  },
  {
   "cell_type": "code",
   "execution_count": 212,
   "metadata": {},
   "outputs": [],
   "source": [
    "# Normalize Data\n",
    "scaler = StandardScaler()\n",
    "df_inpatient_scaled = scaler.fit_transform(df_inpatient_region[inpatient_features]) #Normalizing the numerical values\n",
    "df_outpatient_scaled = scaler.fit_transform(df_outpatient_region[outpatient_features]) "
   ]
  },
  {
   "cell_type": "code",
   "execution_count": 213,
   "metadata": {},
   "outputs": [],
   "source": [
    "# Apply Isolation Forest for Inpatient\n",
    "iso_forest_inpatient = IsolationForest(contamination=0.01, random_state=42)\n",
    "df_inpatient_region[\"Anomaly_Score\"] = iso_forest_inpatient.fit_predict(df_inpatient_scaled)\n",
    "\n",
    "# Apply Isolation Forest for Outpatient\n",
    "iso_forest_outpatient = IsolationForest(contamination=0.01, random_state=42)\n",
    "df_outpatient_region[\"Anomaly_Score\"] = iso_forest_outpatient.fit_predict(df_outpatient_scaled)"
   ]
  },
  {
   "cell_type": "code",
   "execution_count": null,
   "metadata": {},
   "outputs": [],
   "source": [
    "# Get the Three Least Similar Regions for Inpatient\n",
    "least_similar_inpatient_regions = df_inpatient_region[df_inpatient_region[\"Anomaly_Score\"] == -1].nsmallest(3, \"Anomaly_Score\")\n",
    "\n",
    "# Get the Three Least Similar Regions for Outpatient\n",
    "least_similar_outpatient_regions = df_outpatient_region[df_outpatient_region[\"Anomaly_Score\"] == -1].nsmallest(3, \"Anomaly_Score\")\n",
    "\n",
    "print(\"Three Regions Least Like Others (Inpatient):\")\n",
    "print(least_similar_inpatient_regions[[\"Hospital_Referral_Region_HRR_Description_In\"]])\n",
    "print(\"------------------------------------------------------\")\n",
    "print(\"Three Regions Least Like Others (Outpatient):\")\n",
    "print(least_similar_outpatient_regions[[\"Hospital_Referral_Region_HRR_Description_Out\"]])"
   ]
  },
  {
   "cell_type": "markdown",
   "metadata": {},
   "source": [
    "Identify 10,000 Medicare patients who are involved in anomalous activities. "
   ]
  },
  {
   "cell_type": "code",
   "execution_count": null,
   "metadata": {},
   "outputs": [],
   "source": []
  },
  {
   "cell_type": "markdown",
   "metadata": {},
   "source": [
    "### **🔍 Predictive Analytics Problem Statements (Healthcare & Medicare Fraud)**\n",
    "Since you are working with **Medicare payment data**, you can explore several predictive analytics problems. Here are some problem statements:\n",
    "\n",
    "---\n",
    "\n",
    "### **1️⃣ Fraud Detection in Medicare Claims**  \n",
    "**Problem Statement:**  \n",
    "Predict whether a **Medicare claim** is fraudulent based on billing patterns, claim amounts, and provider history.  \n",
    "**Model:** Classification (Logistic Regression, Random Forest, XGBoost, Isolation Forest for anomalies)  \n",
    "**Dataset Features:**  \n",
    "- Provider ID  \n",
    "- Procedure Type  \n",
    "- Total Charges vs. Medicare Payments  \n",
    "- Frequency of Claims by Provider  \n",
    "- Outlier Detection in Billing  \n",
    "\n",
    "---\n",
    "\n",
    "### **2️⃣ Predicting Overpriced Procedures**  \n",
    "**Problem Statement:**  \n",
    "Predict if a hospital **overcharges for a procedure** compared to industry standards.  \n",
    "**Model:** Regression (Linear Regression, XGBoost, Random Forest)  \n",
    "**Dataset Features:**  \n",
    "- **Average Covered Charges** (Cost to patient)  \n",
    "- **Average Medicare Payments** (Actual reimbursement)  \n",
    "- **Total Discharges** (Hospital workload)  \n",
    "- **Geographical Impact** (Region-wise variations)  \n",
    "\n",
    "---\n",
    "\n",
    "### **3️⃣ Identifying Patients at Risk of Readmission**  \n",
    "**Problem Statement:**  \n",
    "Predict whether a **Medicare patient** will be readmitted within 30 days after discharge.  \n",
    "**Model:** Classification (Logistic Regression, Random Forest, Neural Networks)  \n",
    "**Dataset Features:**  \n",
    "- Diagnosis & Procedure Codes  \n",
    "- Total Charges & Payments  \n",
    "- Previous Readmission History  \n",
    "- Length of Stay  \n",
    "- Patient Age & Health Conditions  \n",
    "\n",
    "---\n",
    "\n",
    "### **4️⃣ Predicting Patient’s Length of Stay**  \n",
    "**Problem Statement:**  \n",
    "Estimate the **number of days** a patient will stay in a hospital based on their condition.  \n",
    "**Model:** Regression (Random Forest, Decision Trees, XGBoost)  \n",
    "**Dataset Features:**  \n",
    "- Admission Type (Emergency, Elective)  \n",
    "- Diagnosis & Procedures  \n",
    "- Past Medical History  \n",
    "- Insurance Coverage  \n",
    "\n",
    "---\n",
    "\n",
    "### **5️⃣ Predicting Mortality Rate Based on Hospital Data**  \n",
    "**Problem Statement:**  \n",
    "Predict the probability of **patient mortality** based on hospital stay, treatment, and payments.  \n",
    "**Model:** Classification (Random Forest, Neural Networks)  \n",
    "**Dataset Features:**  \n",
    "- Age & Comorbidities  \n",
    "- Procedure Type  \n",
    "- Length of Hospital Stay  \n",
    "- ICU Admission  \n",
    "\n",
    "---\n",
    "\n",
    "### **📌 Would You Like to Build One?**  \n",
    "I can help you:  \n",
    "✅ **Choose the best problem** for your dataset.  \n",
    "✅ **Train a model** using ML algorithms.  \n",
    "✅ **Deploy the model** using **Streamlit** for real-time predictions.  \n",
    "\n",
    "Which problem do you want to solve? 🚀"
   ]
  },
  {
   "cell_type": "code",
   "execution_count": null,
   "metadata": {},
   "outputs": [],
   "source": []
  },
  {
   "cell_type": "markdown",
   "metadata": {},
   "source": [
    "# Fraud Detection in Medicare Claims\n",
    "(Identify whether a Medicare claim is fraudulent based on provider billing patterns.)"
   ]
  },
  {
   "cell_type": "code",
   "execution_count": 243,
   "metadata": {},
   "outputs": [],
   "source": [
    "# Feature Engineering\n",
    "Medicare_Provider_Charge_Inpatient[\"Overcharging_Ratio\"] = Medicare_Provider_Charge_Inpatient[\"Average_Covered_Charges\"] / Medicare_Provider_Charge_Inpatient[\"Average_Total_Payments_In\"]\n",
    "\n",
    "Medicare_Provider_Charge_Inpatient[\"Claim_Difference\"] = Medicare_Provider_Charge_Inpatient[\"Average_Covered_Charges\"] - Medicare_Provider_Charge_Inpatient[\"Average_Total_Payments_In\"]"
   ]
  },
  {
   "cell_type": "code",
   "execution_count": 246,
   "metadata": {},
   "outputs": [],
   "source": [
    "# Detect Anomalies using Isolation Forest\n",
    "iso_forest = IsolationForest(n_estimators=100, contamination=0.05, random_state=42)\n",
    "Medicare_Provider_Charge_Inpatient[\"Anomaly_Score\"] = iso_forest.fit_predict(Medicare_Provider_Charge_Inpatient[[\"Overcharging_Ratio\", \"Claim_Difference\", \"Payment_ZScore\"]])"
   ]
  },
  {
   "cell_type": "code",
   "execution_count": 247,
   "metadata": {},
   "outputs": [],
   "source": [
    "# Map -1 as Anomalous (Potential Fraud), 1 as Normal\n",
    "Medicare_Provider_Charge_Inpatient[\"Fraud_Label\"] = Medicare_Provider_Charge_Inpatient[\"Anomaly_Score\"].map({-1: 1, 1: 0})"
   ]
  },
  {
   "cell_type": "code",
   "execution_count": 248,
   "metadata": {},
   "outputs": [
    {
     "name": "stdout",
     "output_type": "stream",
     "text": [
      "Model Accuracy: 0.9973630147487198\n",
      "              precision    recall  f1-score   support\n",
      "\n",
      "           0       1.00      1.00      1.00     30979\n",
      "           1       0.98      0.97      0.97      1634\n",
      "\n",
      "    accuracy                           1.00     32613\n",
      "   macro avg       0.99      0.98      0.99     32613\n",
      "weighted avg       1.00      1.00      1.00     32613\n",
      "\n"
     ]
    }
   ],
   "source": [
    "# Train Fraud Detection Model (If labels exist)\n",
    "if \"Fraud_Label\" in Medicare_Provider_Charge_Inpatient.columns:\n",
    "    X = Medicare_Provider_Charge_Inpatient[[\"Overcharging_Ratio\", \"Claim_Difference\", \"Payment_ZScore\"]]\n",
    "    y = Medicare_Provider_Charge_Inpatient[\"Fraud_Label\"]\n",
    "\n",
    "    X_train, X_test, y_train, y_test = train_test_split(X, y, test_size=0.2, random_state=42)\n",
    "\n",
    "    rf_model = RandomForestClassifier(n_estimators=100, random_state=42)\n",
    "    rf_model.fit(X_train, y_train)\n",
    "\n",
    "    y_pred = rf_model.predict(X_test)\n",
    "\n",
    "    print(\"Model Accuracy:\", accuracy_score(y_test, y_pred))\n",
    "    print(classification_report(y_test, y_pred))"
   ]
  },
  {
   "cell_type": "code",
   "execution_count": 254,
   "metadata": {},
   "outputs": [],
   "source": [
    "# Creating a pickle file\n",
    "import pickle\n",
    "picked_out = open(\"Classifier.pkl\",\"wb\")\n",
    "pickle.dump(rf_model,picked_out)\n",
    "picked_out.close()"
   ]
  }
 ],
 "metadata": {
  "kernelspec": {
   "display_name": "base",
   "language": "python",
   "name": "python3"
  },
  "language_info": {
   "codemirror_mode": {
    "name": "ipython",
    "version": 3
   },
   "file_extension": ".py",
   "mimetype": "text/x-python",
   "name": "python",
   "nbconvert_exporter": "python",
   "pygments_lexer": "ipython3",
   "version": "3.12.7"
  }
 },
 "nbformat": 4,
 "nbformat_minor": 2
}
